{
 "cells": [
  {
   "cell_type": "code",
   "execution_count": 19,
   "metadata": {},
   "outputs": [],
   "source": [
    "import cv2\n",
    "import numpy as np\n",
    "import matplotlib.pyplot as plt"
   ]
  },
  {
   "cell_type": "code",
   "execution_count": 20,
   "metadata": {},
   "outputs": [],
   "source": [
    "class Image:\n",
    "    def __init__(self, path):\n",
    "        self.image = cv2.imread(path, 0)\n",
    "\n",
    "    def show_image(self):\n",
    "        cv2.imshow('Before modification', self.image)\n",
    "        cv2.waitKey(0)\n",
    "\n",
    "    def cal_tot(self):\n",
    "        self.tot_pxls = self.image.shape[0] * self.image.shape[1]\n",
    "\n",
    "    def intensity_dist(self):\n",
    "        self.intensity_probabilities = np.zeros(256)\n",
    "        self.intensity_counts = np.zeros(256, dtype=int)\n",
    "        for row in self.image:\n",
    "            for pixel in row:\n",
    "                intensity = pixel\n",
    "                self.intensity_counts[intensity] += 1\n",
    "        self.intensity_probabilities = self.intensity_counts / self.tot_pxls\n",
    "\n",
    "    def show_intensity_dist(self):\n",
    "        plt.plot(self.intensity_counts, color='purple')\n",
    "        plt.title('Intensity Distribution')\n",
    "        plt.xlabel('Intensity')\n",
    "        plt.ylabel('Frequency')\n",
    "        plt.show()\n",
    "        print('the length of the img ', len(self.intensity_counts))\n",
    "        print('counting of intensities ', self.intensity_counts)\n",
    "        print('probability of intensities ', self.intensity_probabilities)\n",
    "    \n",
    "    \n",
    "    def unifrom_dist(self):\n",
    "        num_intensities=256\n",
    "        uniform_probability=1/num_intensities\n",
    "        self.uniform_distribution=np.full(num_intensities, uniform_probability)\n",
    "        print('unifrom distribution ',self.uniform_distribution)\n",
    "    \n",
    "    \n",
    "    def histogram_specification(self):\n",
    "        # Calculate the cumulative distribution function (CDF) of the input image's histogram\n",
    "        input_hist = self.intensity_counts\n",
    "        input_cdf = np.zeros_like(input_hist)\n",
    "        input_cdf[0] = input_hist[0]\n",
    "        for i in range(1, 256):\n",
    "            input_cdf[i] = input_cdf[i-1] + input_hist[i] # to caclulate the cumulative prob\n",
    "\n",
    "        # Normalize the input CDF\n",
    "        input_cdf_normalized = input_cdf / input_cdf.max() #input_cdf.max to calculate the cumulative count and divid e with it to scale within 0 and 1\n",
    "\n",
    "        # Calculate the cumulative distribution function (CDF) of the desired histogram\n",
    "        desired_cdf = np.zeros_like(self.uniform_distribution)\n",
    "        desired_cdf[0] = self.uniform_distribution[0]\n",
    "        for i in range(1, 256):\n",
    "            desired_cdf[i] = desired_cdf[i-1] + self.uniform_distribution[i]\n",
    "        # Normalize the desired CDF\n",
    "        desired_cdf_normalized = desired_cdf / desired_cdf.max()\n",
    "\n",
    "        # Map the input image's intensities to the desired histogram using CDFs\n",
    "        matched_image = np.zeros_like(self.image)\n",
    "        for i in range(self.image.shape[0]):\n",
    "            for j in range(self.image.shape[1]):\n",
    "                intensity = self.image[i, j]\n",
    "                closest_index = np.argmin(np.abs(desired_cdf_normalized - input_cdf_normalized[intensity])) #finds the index of the closest value in the desired_cdf_normalized array to the normalized input CDF value at the current intensity. \n",
    "                matched_intensity = closest_index\n",
    "                matched_image[i, j] = matched_intensity\n",
    "\n",
    "        return matched_image.astype(np.uint8)#8-bit integer array"
   ]
  },
  {
   "cell_type": "code",
   "execution_count": 21,
   "metadata": {},
   "outputs": [],
   "source": [
    "img=Image(\"rt.jpg\")\n",
    "img.show_image()\n",
    "img.cal_tot()\n",
    "img.intensity_dist()\n",
    "# img.show_intensity_dist()\n",
    "img.unifrom_dist()\n",
    "matched_image = img.histogram_specification()\n",
    "plt.imshow(matched_image, cmap='gray')\n"
   ]
  }
 ],
 "metadata": {
  "kernelspec": {
   "display_name": "Python 3",
   "language": "python",
   "name": "python3"
  },
  "language_info": {
   "codemirror_mode": {
    "name": "ipython",
    "version": 3
   },
   "file_extension": ".py",
   "mimetype": "text/x-python",
   "name": "python",
   "nbconvert_exporter": "python",
   "pygments_lexer": "ipython3",
   "version": "3.10.10"
  },
  "orig_nbformat": 4
 },
 "nbformat": 4,
 "nbformat_minor": 2
}
